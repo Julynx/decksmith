{
 "cells": [
  {
   "cell_type": "code",
   "execution_count": 2,
   "id": "03180c48",
   "metadata": {},
   "outputs": [
    {
     "name": "stdout",
     "output_type": "stream",
     "text": [
      "Collecting pandas\n",
      "  Using cached pandas-2.3.1-cp313-cp313-win_amd64.whl.metadata (19 kB)\n",
      "Collecting pillow\n",
      "  Using cached pillow-11.3.0-cp313-cp313-win_amd64.whl.metadata (9.2 kB)\n",
      "Collecting click\n",
      "  Downloading click-8.2.1-py3-none-any.whl.metadata (2.5 kB)\n",
      "Collecting numpy>=1.26.0 (from pandas)\n",
      "  Using cached numpy-2.3.2-cp313-cp313-win_amd64.whl.metadata (60 kB)\n",
      "Requirement already satisfied: python-dateutil>=2.8.2 in d:\\_disk_\\_documentos_\\mis_repositorios\\pydeck\\.venv\\lib\\site-packages (from pandas) (2.9.0.post0)\n",
      "Collecting pytz>=2020.1 (from pandas)\n",
      "  Using cached pytz-2025.2-py2.py3-none-any.whl.metadata (22 kB)\n",
      "Collecting tzdata>=2022.7 (from pandas)\n",
      "  Using cached tzdata-2025.2-py2.py3-none-any.whl.metadata (1.4 kB)\n",
      "Requirement already satisfied: colorama in d:\\_disk_\\_documentos_\\mis_repositorios\\pydeck\\.venv\\lib\\site-packages (from click) (0.4.6)\n",
      "Requirement already satisfied: six>=1.5 in d:\\_disk_\\_documentos_\\mis_repositorios\\pydeck\\.venv\\lib\\site-packages (from python-dateutil>=2.8.2->pandas) (1.17.0)\n",
      "Using cached pandas-2.3.1-cp313-cp313-win_amd64.whl (11.0 MB)\n",
      "Using cached pillow-11.3.0-cp313-cp313-win_amd64.whl (7.0 MB)\n",
      "Downloading click-8.2.1-py3-none-any.whl (102 kB)\n",
      "Using cached numpy-2.3.2-cp313-cp313-win_amd64.whl (12.8 MB)\n",
      "Using cached pytz-2025.2-py2.py3-none-any.whl (509 kB)\n",
      "Using cached tzdata-2025.2-py2.py3-none-any.whl (347 kB)\n",
      "Installing collected packages: pytz, tzdata, pillow, numpy, click, pandas\n",
      "\n",
      "   ---------------------------------------- 0/6 [pytz]\n",
      "   ------ --------------------------------- 1/6 [tzdata]\n",
      "   ------------- -------------------------- 2/6 [pillow]\n",
      "   ------------- -------------------------- 2/6 [pillow]\n",
      "   ------------- -------------------------- 2/6 [pillow]\n",
      "   ------------- -------------------------- 2/6 [pillow]\n",
      "   -------------------- ------------------- 3/6 [numpy]\n",
      "   -------------------- ------------------- 3/6 [numpy]\n",
      "   -------------------- ------------------- 3/6 [numpy]\n",
      "   -------------------- ------------------- 3/6 [numpy]\n",
      "   -------------------- ------------------- 3/6 [numpy]\n",
      "   -------------------- ------------------- 3/6 [numpy]\n",
      "   -------------------- ------------------- 3/6 [numpy]\n",
      "   -------------------- ------------------- 3/6 [numpy]\n",
      "   -------------------- ------------------- 3/6 [numpy]\n",
      "   -------------------- ------------------- 3/6 [numpy]\n",
      "   -------------------- ------------------- 3/6 [numpy]\n",
      "   -------------------- ------------------- 3/6 [numpy]\n",
      "   -------------------- ------------------- 3/6 [numpy]\n",
      "   -------------------- ------------------- 3/6 [numpy]\n",
      "   -------------------- ------------------- 3/6 [numpy]\n",
      "   -------------------- ------------------- 3/6 [numpy]\n",
      "   -------------------- ------------------- 3/6 [numpy]\n",
      "   -------------------- ------------------- 3/6 [numpy]\n",
      "   -------------------- ------------------- 3/6 [numpy]\n",
      "   -------------------- ------------------- 3/6 [numpy]\n",
      "   -------------------- ------------------- 3/6 [numpy]\n",
      "   -------------------- ------------------- 3/6 [numpy]\n",
      "   -------------------------- ------------- 4/6 [click]\n",
      "   --------------------------------- ------ 5/6 [pandas]\n",
      "   --------------------------------- ------ 5/6 [pandas]\n",
      "   --------------------------------- ------ 5/6 [pandas]\n",
      "   --------------------------------- ------ 5/6 [pandas]\n",
      "   --------------------------------- ------ 5/6 [pandas]\n",
      "   --------------------------------- ------ 5/6 [pandas]\n",
      "   --------------------------------- ------ 5/6 [pandas]\n",
      "   --------------------------------- ------ 5/6 [pandas]\n",
      "   --------------------------------- ------ 5/6 [pandas]\n",
      "   --------------------------------- ------ 5/6 [pandas]\n",
      "   --------------------------------- ------ 5/6 [pandas]\n",
      "   --------------------------------- ------ 5/6 [pandas]\n",
      "   --------------------------------- ------ 5/6 [pandas]\n",
      "   --------------------------------- ------ 5/6 [pandas]\n",
      "   --------------------------------- ------ 5/6 [pandas]\n",
      "   --------------------------------- ------ 5/6 [pandas]\n",
      "   --------------------------------- ------ 5/6 [pandas]\n",
      "   --------------------------------- ------ 5/6 [pandas]\n",
      "   --------------------------------- ------ 5/6 [pandas]\n",
      "   --------------------------------- ------ 5/6 [pandas]\n",
      "   --------------------------------- ------ 5/6 [pandas]\n",
      "   --------------------------------- ------ 5/6 [pandas]\n",
      "   --------------------------------- ------ 5/6 [pandas]\n",
      "   --------------------------------- ------ 5/6 [pandas]\n",
      "   --------------------------------- ------ 5/6 [pandas]\n",
      "   --------------------------------- ------ 5/6 [pandas]\n",
      "   --------------------------------- ------ 5/6 [pandas]\n",
      "   --------------------------------- ------ 5/6 [pandas]\n",
      "   --------------------------------- ------ 5/6 [pandas]\n",
      "   --------------------------------- ------ 5/6 [pandas]\n",
      "   --------------------------------- ------ 5/6 [pandas]\n",
      "   --------------------------------- ------ 5/6 [pandas]\n",
      "   --------------------------------- ------ 5/6 [pandas]\n",
      "   --------------------------------- ------ 5/6 [pandas]\n",
      "   --------------------------------- ------ 5/6 [pandas]\n",
      "   --------------------------------- ------ 5/6 [pandas]\n",
      "   --------------------------------- ------ 5/6 [pandas]\n",
      "   --------------------------------- ------ 5/6 [pandas]\n",
      "   --------------------------------- ------ 5/6 [pandas]\n",
      "   --------------------------------- ------ 5/6 [pandas]\n",
      "   --------------------------------- ------ 5/6 [pandas]\n",
      "   --------------------------------- ------ 5/6 [pandas]\n",
      "   --------------------------------- ------ 5/6 [pandas]\n",
      "   --------------------------------- ------ 5/6 [pandas]\n",
      "   --------------------------------- ------ 5/6 [pandas]\n",
      "   --------------------------------- ------ 5/6 [pandas]\n",
      "   --------------------------------- ------ 5/6 [pandas]\n",
      "   --------------------------------- ------ 5/6 [pandas]\n",
      "   --------------------------------- ------ 5/6 [pandas]\n",
      "   --------------------------------- ------ 5/6 [pandas]\n",
      "   --------------------------------- ------ 5/6 [pandas]\n",
      "   --------------------------------- ------ 5/6 [pandas]\n",
      "   --------------------------------- ------ 5/6 [pandas]\n",
      "   --------------------------------- ------ 5/6 [pandas]\n",
      "   --------------------------------- ------ 5/6 [pandas]\n",
      "   --------------------------------- ------ 5/6 [pandas]\n",
      "   --------------------------------- ------ 5/6 [pandas]\n",
      "   --------------------------------- ------ 5/6 [pandas]\n",
      "   --------------------------------- ------ 5/6 [pandas]\n",
      "   --------------------------------- ------ 5/6 [pandas]\n",
      "   --------------------------------- ------ 5/6 [pandas]\n",
      "   --------------------------------- ------ 5/6 [pandas]\n",
      "   ---------------------------------------- 6/6 [pandas]\n",
      "\n",
      "Successfully installed click-8.2.1 numpy-2.3.2 pandas-2.3.1 pillow-11.3.0 pytz-2025.2 tzdata-2025.2\n",
      "Note: you may need to restart the kernel to use updated packages.\n"
     ]
    }
   ],
   "source": [
    "%pip install pandas pillow click"
   ]
  },
  {
   "cell_type": "code",
   "execution_count": 3,
   "id": "7a44e06d",
   "metadata": {},
   "outputs": [
    {
     "ename": "FileNotFoundError",
     "evalue": "[Errno 2] No such file or directory: 'test/data/dek.json'",
     "output_type": "error",
     "traceback": [
      "\u001b[31m---------------------------------------------------------------------------\u001b[39m",
      "\u001b[31mFileNotFoundError\u001b[39m                         Traceback (most recent call last)",
      "\u001b[36mCell\u001b[39m\u001b[36m \u001b[39m\u001b[32mIn[3]\u001b[39m\u001b[32m, line 3\u001b[39m\n\u001b[32m      1\u001b[39m \u001b[38;5;28;01mfrom\u001b[39;00m\u001b[38;5;250m \u001b[39m\u001b[34;01mpydeck\u001b[39;00m\u001b[34;01m.\u001b[39;00m\u001b[34;01mdeck_builder\u001b[39;00m\u001b[38;5;250m \u001b[39m\u001b[38;5;28;01mimport\u001b[39;00m DeckBuilder\n\u001b[32m----> \u001b[39m\u001b[32m3\u001b[39m \u001b[43mDeckBuilder\u001b[49m\u001b[43m(\u001b[49m\u001b[33;43m\"\u001b[39;49m\u001b[33;43mtest/data/dek.json\u001b[39;49m\u001b[33;43m\"\u001b[39;49m\u001b[43m,\u001b[49m\u001b[43m \u001b[49m\u001b[33;43m\"\u001b[39;49m\u001b[33;43mtest/data/deck.csv\u001b[39;49m\u001b[33;43m\"\u001b[39;49m\u001b[43m)\u001b[49m\u001b[43m.\u001b[49m\u001b[43mbuild_deck\u001b[49m\u001b[43m(\u001b[49m\u001b[33;43m\"\u001b[39;49m\u001b[33;43mtest/output\u001b[39;49m\u001b[33;43m\"\u001b[39;49m\u001b[43m)\u001b[49m\n",
      "\u001b[36mFile \u001b[39m\u001b[32md:\\_DISK_\\_Documentos_\\Mis_repositorios\\pydeck\\pydeck\\deck_builder.py:91\u001b[39m, in \u001b[36mDeckBuilder.build_deck\u001b[39m\u001b[34m(self, output_path)\u001b[39m\n\u001b[32m     88\u001b[39m     card_builder.build(Path(output_path) / \u001b[33mf\u001b[39m\u001b[33m\"\u001b[39m\u001b[33mcard_\u001b[39m\u001b[38;5;132;01m{\u001b[39;00midx\u001b[38;5;250m \u001b[39m+\u001b[38;5;250m \u001b[39m\u001b[32m1\u001b[39m\u001b[38;5;132;01m}\u001b[39;00m\u001b[33m.png\u001b[39m\u001b[33m\"\u001b[39m)\n\u001b[32m     90\u001b[39m \u001b[38;5;28;01mwith\u001b[39;00m concurrent.futures.ThreadPoolExecutor() \u001b[38;5;28;01mas\u001b[39;00m executor:\n\u001b[32m---> \u001b[39m\u001b[32m91\u001b[39m     \u001b[38;5;28;43mlist\u001b[39;49m\u001b[43m(\u001b[49m\u001b[43mexecutor\u001b[49m\u001b[43m.\u001b[49m\u001b[43mmap\u001b[49m\u001b[43m(\u001b[49m\u001b[43mbuild_card\u001b[49m\u001b[43m,\u001b[49m\u001b[43m \u001b[49m\u001b[43mdf\u001b[49m\u001b[43m.\u001b[49m\u001b[43miterrows\u001b[49m\u001b[43m(\u001b[49m\u001b[43m)\u001b[49m\u001b[43m)\u001b[49m\u001b[43m)\u001b[49m\n",
      "\u001b[36mFile \u001b[39m\u001b[32m~\\AppData\\Local\\Programs\\Python\\Python313\\Lib\\concurrent\\futures\\_base.py:619\u001b[39m, in \u001b[36mExecutor.map.<locals>.result_iterator\u001b[39m\u001b[34m()\u001b[39m\n\u001b[32m    616\u001b[39m \u001b[38;5;28;01mwhile\u001b[39;00m fs:\n\u001b[32m    617\u001b[39m     \u001b[38;5;66;03m# Careful not to keep a reference to the popped future\u001b[39;00m\n\u001b[32m    618\u001b[39m     \u001b[38;5;28;01mif\u001b[39;00m timeout \u001b[38;5;129;01mis\u001b[39;00m \u001b[38;5;28;01mNone\u001b[39;00m:\n\u001b[32m--> \u001b[39m\u001b[32m619\u001b[39m         \u001b[38;5;28;01myield\u001b[39;00m \u001b[43m_result_or_cancel\u001b[49m\u001b[43m(\u001b[49m\u001b[43mfs\u001b[49m\u001b[43m.\u001b[49m\u001b[43mpop\u001b[49m\u001b[43m(\u001b[49m\u001b[43m)\u001b[49m\u001b[43m)\u001b[49m\n\u001b[32m    620\u001b[39m     \u001b[38;5;28;01melse\u001b[39;00m:\n\u001b[32m    621\u001b[39m         \u001b[38;5;28;01myield\u001b[39;00m _result_or_cancel(fs.pop(), end_time - time.monotonic())\n",
      "\u001b[36mFile \u001b[39m\u001b[32m~\\AppData\\Local\\Programs\\Python\\Python313\\Lib\\concurrent\\futures\\_base.py:317\u001b[39m, in \u001b[36m_result_or_cancel\u001b[39m\u001b[34m(***failed resolving arguments***)\u001b[39m\n\u001b[32m    315\u001b[39m \u001b[38;5;28;01mtry\u001b[39;00m:\n\u001b[32m    316\u001b[39m     \u001b[38;5;28;01mtry\u001b[39;00m:\n\u001b[32m--> \u001b[39m\u001b[32m317\u001b[39m         \u001b[38;5;28;01mreturn\u001b[39;00m \u001b[43mfut\u001b[49m\u001b[43m.\u001b[49m\u001b[43mresult\u001b[49m\u001b[43m(\u001b[49m\u001b[43mtimeout\u001b[49m\u001b[43m)\u001b[49m\n\u001b[32m    318\u001b[39m     \u001b[38;5;28;01mfinally\u001b[39;00m:\n\u001b[32m    319\u001b[39m         fut.cancel()\n",
      "\u001b[36mFile \u001b[39m\u001b[32m~\\AppData\\Local\\Programs\\Python\\Python313\\Lib\\concurrent\\futures\\_base.py:449\u001b[39m, in \u001b[36mFuture.result\u001b[39m\u001b[34m(self, timeout)\u001b[39m\n\u001b[32m    447\u001b[39m     \u001b[38;5;28;01mraise\u001b[39;00m CancelledError()\n\u001b[32m    448\u001b[39m \u001b[38;5;28;01melif\u001b[39;00m \u001b[38;5;28mself\u001b[39m._state == FINISHED:\n\u001b[32m--> \u001b[39m\u001b[32m449\u001b[39m     \u001b[38;5;28;01mreturn\u001b[39;00m \u001b[38;5;28;43mself\u001b[39;49m\u001b[43m.\u001b[49m\u001b[43m__get_result\u001b[49m\u001b[43m(\u001b[49m\u001b[43m)\u001b[49m\n\u001b[32m    451\u001b[39m \u001b[38;5;28mself\u001b[39m._condition.wait(timeout)\n\u001b[32m    453\u001b[39m \u001b[38;5;28;01mif\u001b[39;00m \u001b[38;5;28mself\u001b[39m._state \u001b[38;5;129;01min\u001b[39;00m [CANCELLED, CANCELLED_AND_NOTIFIED]:\n",
      "\u001b[36mFile \u001b[39m\u001b[32m~\\AppData\\Local\\Programs\\Python\\Python313\\Lib\\concurrent\\futures\\_base.py:401\u001b[39m, in \u001b[36mFuture.__get_result\u001b[39m\u001b[34m(self)\u001b[39m\n\u001b[32m    399\u001b[39m \u001b[38;5;28;01mif\u001b[39;00m \u001b[38;5;28mself\u001b[39m._exception \u001b[38;5;129;01mis\u001b[39;00m \u001b[38;5;129;01mnot\u001b[39;00m \u001b[38;5;28;01mNone\u001b[39;00m:\n\u001b[32m    400\u001b[39m     \u001b[38;5;28;01mtry\u001b[39;00m:\n\u001b[32m--> \u001b[39m\u001b[32m401\u001b[39m         \u001b[38;5;28;01mraise\u001b[39;00m \u001b[38;5;28mself\u001b[39m._exception\n\u001b[32m    402\u001b[39m     \u001b[38;5;28;01mfinally\u001b[39;00m:\n\u001b[32m    403\u001b[39m         \u001b[38;5;66;03m# Break a reference cycle with the exception in self._exception\u001b[39;00m\n\u001b[32m    404\u001b[39m         \u001b[38;5;28mself\u001b[39m = \u001b[38;5;28;01mNone\u001b[39;00m\n",
      "\u001b[36mFile \u001b[39m\u001b[32m~\\AppData\\Local\\Programs\\Python\\Python313\\Lib\\concurrent\\futures\\thread.py:59\u001b[39m, in \u001b[36m_WorkItem.run\u001b[39m\u001b[34m(self)\u001b[39m\n\u001b[32m     56\u001b[39m     \u001b[38;5;28;01mreturn\u001b[39;00m\n\u001b[32m     58\u001b[39m \u001b[38;5;28;01mtry\u001b[39;00m:\n\u001b[32m---> \u001b[39m\u001b[32m59\u001b[39m     result = \u001b[38;5;28;43mself\u001b[39;49m\u001b[43m.\u001b[49m\u001b[43mfn\u001b[49m\u001b[43m(\u001b[49m\u001b[43m*\u001b[49m\u001b[38;5;28;43mself\u001b[39;49m\u001b[43m.\u001b[49m\u001b[43margs\u001b[49m\u001b[43m,\u001b[49m\u001b[43m \u001b[49m\u001b[43m*\u001b[49m\u001b[43m*\u001b[49m\u001b[38;5;28;43mself\u001b[39;49m\u001b[43m.\u001b[49m\u001b[43mkwargs\u001b[49m\u001b[43m)\u001b[49m\n\u001b[32m     60\u001b[39m \u001b[38;5;28;01mexcept\u001b[39;00m \u001b[38;5;167;01mBaseException\u001b[39;00m \u001b[38;5;28;01mas\u001b[39;00m exc:\n\u001b[32m     61\u001b[39m     \u001b[38;5;28mself\u001b[39m.future.set_exception(exc)\n",
      "\u001b[36mFile \u001b[39m\u001b[32md:\\_DISK_\\_Documentos_\\Mis_repositorios\\pydeck\\pydeck\\deck_builder.py:86\u001b[39m, in \u001b[36mDeckBuilder.build_deck.<locals>.build_card\u001b[39m\u001b[34m(row_tuple)\u001b[39m\n\u001b[32m     84\u001b[39m \u001b[38;5;28;01mdef\u001b[39;00m\u001b[38;5;250m \u001b[39m\u001b[34mbuild_card\u001b[39m(row_tuple):\n\u001b[32m     85\u001b[39m     idx, row = row_tuple\n\u001b[32m---> \u001b[39m\u001b[32m86\u001b[39m     spec = \u001b[38;5;28;43mself\u001b[39;49m\u001b[43m.\u001b[49m\u001b[43m_replace_macros\u001b[49m\u001b[43m(\u001b[49m\u001b[43mrow\u001b[49m\u001b[43m.\u001b[49m\u001b[43mto_dict\u001b[49m\u001b[43m(\u001b[49m\u001b[43m)\u001b[49m\u001b[43m)\u001b[49m\n\u001b[32m     87\u001b[39m     card_builder = CardBuilder(spec)\n\u001b[32m     88\u001b[39m     card_builder.build(Path(output_path) / \u001b[33mf\u001b[39m\u001b[33m\"\u001b[39m\u001b[33mcard_\u001b[39m\u001b[38;5;132;01m{\u001b[39;00midx\u001b[38;5;250m \u001b[39m+\u001b[38;5;250m \u001b[39m\u001b[32m1\u001b[39m\u001b[38;5;132;01m}\u001b[39;00m\u001b[33m.png\u001b[39m\u001b[33m\"\u001b[39m)\n",
      "\u001b[36mFile \u001b[39m\u001b[32md:\\_DISK_\\_Documentos_\\Mis_repositorios\\pydeck\\pydeck\\deck_builder.py:67\u001b[39m, in \u001b[36mDeckBuilder._replace_macros\u001b[39m\u001b[34m(self, row)\u001b[39m\n\u001b[32m     63\u001b[39m         \u001b[38;5;28;01mreturn\u001b[39;00m {k: replace_in_value(v) \u001b[38;5;28;01mfor\u001b[39;00m k, v \u001b[38;5;129;01min\u001b[39;00m value.items()}\n\u001b[32m     65\u001b[39m     \u001b[38;5;28;01mreturn\u001b[39;00m value\n\u001b[32m---> \u001b[39m\u001b[32m67\u001b[39m \u001b[38;5;28;01mwith\u001b[39;00m \u001b[38;5;28;43mopen\u001b[39;49m\u001b[43m(\u001b[49m\u001b[38;5;28;43mself\u001b[39;49m\u001b[43m.\u001b[49m\u001b[43mspec_path\u001b[49m\u001b[43m,\u001b[49m\u001b[43m \u001b[49m\u001b[33;43m\"\u001b[39;49m\u001b[33;43mr\u001b[39;49m\u001b[33;43m\"\u001b[39;49m\u001b[43m,\u001b[49m\u001b[43m \u001b[49m\u001b[43mencoding\u001b[49m\u001b[43m=\u001b[49m\u001b[33;43m\"\u001b[39;49m\u001b[33;43mutf-8\u001b[39;49m\u001b[33;43m\"\u001b[39;49m\u001b[43m)\u001b[49m \u001b[38;5;28;01mas\u001b[39;00m f:\n\u001b[32m     68\u001b[39m     spec = json.load(f)\n\u001b[32m     69\u001b[39m \u001b[38;5;28;01mreturn\u001b[39;00m replace_in_value(spec)\n",
      "\u001b[31mFileNotFoundError\u001b[39m: [Errno 2] No such file or directory: 'test/data/dek.json'"
     ]
    }
   ],
   "source": [
    "from pydeck.deck_builder import DeckBuilder\n",
    "\n",
    "DeckBuilder(\"test/data/deck.json\", \"test/data/deck.csv\").build_deck(\"test/output\")"
   ]
  },
  {
   "cell_type": "code",
   "execution_count": 11,
   "id": "e64fb09a",
   "metadata": {},
   "outputs": [
    {
     "name": "stdout",
     "output_type": "stream",
     "text": [
      "Card saved to test\\output\\card_1.png\n"
     ]
    }
   ],
   "source": [
    "from pydeck.deck_builder import DeckBuilder\n",
    "\n",
    "DeckBuilder(\"test/data/shapes.json\").build_deck(\"test/output\")"
   ]
  }
 ],
 "metadata": {
  "kernelspec": {
   "display_name": ".venv",
   "language": "python",
   "name": "python3"
  },
  "language_info": {
   "codemirror_mode": {
    "name": "ipython",
    "version": 3
   },
   "file_extension": ".py",
   "mimetype": "text/x-python",
   "name": "python",
   "nbconvert_exporter": "python",
   "pygments_lexer": "ipython3",
   "version": "3.13.5"
  }
 },
 "nbformat": 4,
 "nbformat_minor": 5
}
