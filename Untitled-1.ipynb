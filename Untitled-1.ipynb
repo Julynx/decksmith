{
 "cells": [
  {
   "cell_type": "code",
   "execution_count": null,
   "id": "03180c48",
   "metadata": {},
   "outputs": [],
   "source": [
    "%pip install -r requirements.txt"
   ]
  },
  {
   "cell_type": "code",
   "execution_count": 10,
   "id": "7a44e06d",
   "metadata": {},
   "outputs": [
    {
     "name": "stdout",
     "output_type": "stream",
     "text": [
      "Card saved to test\\output\\card_1.png\n",
      "Card saved to test\\output\\card_2.png\n"
     ]
    }
   ],
   "source": [
    "from pydeck.deck_builder import DeckBuilder\n",
    "\n",
    "DeckBuilder(\"test/data/deck.json\", \"test/data/deck.csv\").build_deck(\"test/output\")"
   ]
  },
  {
   "cell_type": "code",
   "execution_count": 11,
   "id": "e64fb09a",
   "metadata": {},
   "outputs": [
    {
     "name": "stdout",
     "output_type": "stream",
     "text": [
      "Card saved to test\\output\\card_1.png\n"
     ]
    }
   ],
   "source": [
    "from pydeck.deck_builder import DeckBuilder\n",
    "\n",
    "DeckBuilder(\"test/data/shapes.json\").build_deck(\"test/output\")"
   ]
  }
 ],
 "metadata": {
  "kernelspec": {
   "display_name": ".venv",
   "language": "python",
   "name": "python3"
  },
  "language_info": {
   "codemirror_mode": {
    "name": "ipython",
    "version": 3
   },
   "file_extension": ".py",
   "mimetype": "text/x-python",
   "name": "python",
   "nbconvert_exporter": "python",
   "pygments_lexer": "ipython3",
   "version": "3.13.5"
  }
 },
 "nbformat": 4,
 "nbformat_minor": 5
}
