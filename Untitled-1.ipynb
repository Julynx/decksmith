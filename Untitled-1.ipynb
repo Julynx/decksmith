{
 "cells": [
  {
   "cell_type": "code",
   "execution_count": null,
   "id": "03180c48",
   "metadata": {},
   "outputs": [],
   "source": [
    "%pip install -r requirements.txt"
   ]
  },
  {
   "cell_type": "code",
   "execution_count": 2,
   "id": "e64fb09a",
   "metadata": {},
   "outputs": [
    {
     "name": "stdout",
     "output_type": "stream",
     "text": [
      "Card saved to output\\card_1.png\n",
      "Card saved to output\\card_2.png\n"
     ]
    }
   ],
   "source": [
    "from src.deck_builder import DeckBuilder\n",
    "\n",
    "DeckBuilder(\"data/deck.json\", \"data/deck.csv\").build(\"output\")"
   ]
  }
 ],
 "metadata": {
  "kernelspec": {
   "display_name": ".venv",
   "language": "python",
   "name": "python3"
  },
  "language_info": {
   "codemirror_mode": {
    "name": "ipython",
    "version": 3
   },
   "file_extension": ".py",
   "mimetype": "text/x-python",
   "name": "python",
   "nbconvert_exporter": "python",
   "pygments_lexer": "ipython3",
   "version": "3.13.5"
  }
 },
 "nbformat": 4,
 "nbformat_minor": 5
}
